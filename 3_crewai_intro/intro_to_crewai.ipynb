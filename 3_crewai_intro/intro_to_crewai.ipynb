{
 "cells": [
  {
   "cell_type": "markdown",
   "metadata": {
    "id": "ANCxcFs-qVl4"
   },
   "source": [
    "# 3. Getting Started with CrewAI\n",
    "Welcome to the 3th exercise in the Cloudera Agentic AI Hands on Lab. In this notebook you will get familiar the CrewAI library and how we can leverage it with Cloudera's AI Inference Service. This notebook is designed to walk you through the setup and application of these tools in an agentic worfklow context to create a robust and intelligence system. \n",
    "\n",
    "- **Configure AI Inference:** A private Meta LLama 3.1 8B model will serve as the backbone of our AI agents, providing the computational power and linguistic understanding necessary for processing complex queries.\n",
    "- **Set up CrewAI Agents and Tasks:** We will leverage the CrewAI library to set up our AI agents with clear roles, backstories and goals. We will also configure tasks for each agent to complete and identify tools that they can leverage to complete their tasks.\n",
    "- **Create Sequential Agentic Workflow:** Next, we will orchestrate these agents and tasks into a crew and workflow for them to complete.\n",
    "- **Running a Practical Example:** We will then run our example workflow by providing inputs for the agentic workflow to consider and then complete the tasks they are configured to do."
   ]
  },
  {
   "cell_type": "markdown",
   "metadata": {},
   "source": [
    "## 3.1 Configuring AI Inference\n",
    "\n",
    "Let's start by configuring AI Inference's Llama 3.1 8B model as the Base Model we will use for the agents."
   ]
  },
  {
   "cell_type": "code",
   "execution_count": 1,
   "metadata": {},
   "outputs": [
    {
     "name": "stdout",
     "output_type": "stream",
     "text": [
      "2025-03-13 01:46:35,991 [embedchain] [INFO] Swapped std-lib sqlite3 with pysqlite3 for ChromaDb compatibility. Your original version was 3.31.1.\n"
     ]
    },
    {
     "name": "stderr",
     "output_type": "stream",
     "text": [
      "/home/cdsw/.local/lib/python3.10/site-packages/pydantic/_internal/_config.py:295: PydanticDeprecatedSince20: Support for class-based `config` is deprecated, use ConfigDict instead. Deprecated in Pydantic V2.0 to be removed in V3.0. See Pydantic V2 Migration Guide at https://errors.pydantic.dev/2.10/migration/\n",
      "  warnings.warn(DEPRECATION_MESSAGE, DeprecationWarning)\n",
      "/home/cdsw/.local/lib/python3.10/site-packages/crewai_tools/tools/base_tool.py:28: PydanticDeprecatedSince20: Pydantic V1 style `@validator` validators are deprecated. You should migrate to Pydantic V2 style `@field_validator` validators, see the migration guide for more details. Deprecated in Pydantic V2.0 to be removed in V3.0. See Pydantic V2 Migration Guide at https://errors.pydantic.dev/2.10/migration/\n",
      "  @validator(\"args_schema\", always=True, pre=True)\n",
      "/home/cdsw/.local/lib/python3.10/site-packages/pydantic/_internal/_config.py:295: PydanticDeprecatedSince20: Support for class-based `config` is deprecated, use ConfigDict instead. Deprecated in Pydantic V2.0 to be removed in V3.0. See Pydantic V2 Migration Guide at https://errors.pydantic.dev/2.10/migration/\n",
      "  warnings.warn(DEPRECATION_MESSAGE, DeprecationWarning)\n"
     ]
    }
   ],
   "source": [
    "from crewai import Agent, Task, Crew, Process, LLM\n",
    "from crewai_tools import SerperDevTool\n",
    "import os\n",
    "import litellm\n",
    "import json\n",
    "import warnings\n",
    "warnings.filterwarnings('ignore')"
   ]
  },
  {
   "cell_type": "markdown",
   "metadata": {},
   "source": [
    "Below, we obtain the JWT token to use with the Inference Service and configure LiteLLM to work with our OpenAI-compatible endpoint."
   ]
  },
  {
   "cell_type": "code",
   "execution_count": null,
   "metadata": {},
   "outputs": [],
   "source": [
    "OPENAI_API_KEY=json.load(open(\"/tmp/jwt\"))[\"access_token\"]"
   ]
  },
  {
   "cell_type": "code",
   "execution_count": null,
   "metadata": {},
   "outputs": [],
   "source": [
    "litellm.set_verbose=False\n",
    "\n",
    "llm = LLM(\n",
    "    model=\"openai/\" + os.environ[\"OPENAI_MODEL_ID\"],\n",
    "    api_key=OPENAI_API_KEY,\n",
    "    base_url=os.environ[\"OPENAI_BASE_URL\"]\n",
    ")"
   ]
  },
  {
   "cell_type": "markdown",
   "metadata": {},
   "source": [
    "## 3.2 Set Up CrewAI Agents and Tasks\n",
    "\n",
    "Next, let's set up the relevant Agents and Tasks using the CrewAI library. We will define 2 agents - One Researcher and One Reporting Analyst, and they will be tasked to research the topic assigned to them. For the purpose of this exercise, we will use the SerperDevTool to access the internet."
   ]
  },
  {
   "cell_type": "code",
   "execution_count": 4,
   "metadata": {
    "ExecuteTime": {
     "end_time": "2024-05-17T18:19:19.351863Z",
     "start_time": "2024-05-17T18:19:19.350191Z"
    },
    "cellView": "form",
    "id": "NsNLa6Qu0JEK"
   },
   "outputs": [],
   "source": [
    "from textwrap import dedent\n",
    "\n",
    "search_tool = SerperDevTool(\n",
    "    country=\"us\",\n",
    "    locale=\"en\",\n",
    "    location=\"Miami Beach, Florida, United States\",\n",
    "    n_results=5,\n",
    ")\n",
    "\n",
    "# First we define the Researcher Agent\n",
    "researcher_agent = Agent(\n",
    "    role=dedent((\n",
    "        \"\"\"\n",
    "        {topic} Senior Data Researcher\n",
    "        \"\"\")), # Think of this as the job title\n",
    "    backstory=dedent((\n",
    "        \"\"\"\n",
    "        You are a seasoned researcher with a knack for uncovering the latest developments in {topic}.\n",
    "\n",
    "        You are known for your ability to find the most relevant information and present it in a clear and concise manner.\n",
    "        \"\"\")), # This is the backstory of the agent, this helps the agent to understand the context of the task\n",
    "    goal=dedent((\n",
    "        \"\"\"\n",
    "        Uncover cutting-edge developments in {topic} and use the search_tool available to you to look up the latest information.\n",
    "        \n",
    "        Try to keep final answers in markdown format.\n",
    "        \"\"\")), # This is the goal that the agent is trying to achieve\n",
    "    tools=[search_tool],\n",
    "    allow_delegation=False,\n",
    "    max_iter=2,\n",
    "    max_retry_limit=3,\n",
    "    max_retries=3,\n",
    "    llm=llm,\n",
    "    verbose=True\n",
    ")\n",
    "\n",
    "# Next, we define the Reporting Analyst\n",
    "reporting_analyst = Agent(\n",
    "    role=dedent((\n",
    "        \"\"\"\n",
    "        {topic} Reporting Analyst\n",
    "        \"\"\")),\n",
    "    backstory=dedent((\n",
    "        \"\"\"\n",
    "        You are a meticulous analyst with a keen eye for detail. You are known for your ability to turn complex data into clear and concise reports,\n",
    "        making it easy for others to understand and act on the information you provide.\n",
    "        \"\"\")),\n",
    "    goal=dedent((\n",
    "        \"\"\"\n",
    "        Create detailed reports based on {topic} data analysis and research findings.\n",
    "        \"\"\")), # This is the goal that the agent is trying to achieve\n",
    "    allow_delegation=False,\n",
    "    max_iter=2,\n",
    "    max_retry_limit=3,\n",
    "    max_retries=3,\n",
    "    llm=llm,\n",
    "    verbose=True\n",
    ")"
   ]
  },
  {
   "cell_type": "markdown",
   "metadata": {},
   "source": [
    "Next, let's define the tasks for our agents to complete."
   ]
  },
  {
   "cell_type": "code",
   "execution_count": 5,
   "metadata": {
    "ExecuteTime": {
     "end_time": "2024-05-17T18:20:26.741468Z",
     "start_time": "2024-05-17T18:19:29.015624Z"
    },
    "cellView": "form",
    "id": "P8iHNKCfk9Rv"
   },
   "outputs": [],
   "source": [
    "# First, let's create a task for the researcher agent. Note below that we define which agent completes which task.\n",
    "research_task = Task(\n",
    "    description=dedent((\n",
    "        \"\"\"\n",
    "        Conduct thorough research about {topic}\n",
    "\n",
    "        Make sure you find any interesting and relevant information given the current year is 2025.\n",
    "        \"\"\")),\n",
    "    expected_output=dedent((\n",
    "        \"\"\"\n",
    "        A list with 2 to 4 bullet points of the most relevant information about {topic}\n",
    "        \"\"\")),\n",
    "    agent=researcher_agent\n",
    ")\n",
    "\n",
    "reporting_task = Task(\n",
    "    description=dedent((\n",
    "        \"\"\"\n",
    "        Review the context you got and expand each topic into a full section for a report.\n",
    "        Make sure the report is detailed and contains any and all relevant information.\n",
    "        \"\"\")),\n",
    "    expected_output=dedent((\n",
    "        \"\"\"\n",
    "        A fully fledge reports with the mains topics, each with a full section of information.\n",
    "        Formatted as markdown without '```'\n",
    "        \"\"\")),\n",
    "    agent=reporting_analyst,\n",
    "    output_file='report.md',\n",
    "    context=[research_task]\n",
    ")"
   ]
  },
  {
   "cell_type": "markdown",
   "metadata": {},
   "source": [
    "## 3.3 Create Sequential Agentic AI Workflow\n",
    "\n",
    "Now, let's put all of this together by placing the discrete agents and tasks into a crew."
   ]
  },
  {
   "cell_type": "code",
   "execution_count": 6,
   "metadata": {
    "ExecuteTime": {
     "end_time": "2024-05-17T18:26:09.810103Z",
     "start_time": "2024-05-17T18:25:59.838229Z"
    },
    "cellView": "form",
    "id": "BhAt-unGk4kA"
   },
   "outputs": [],
   "source": [
    "crew = Crew(\n",
    "        agents=[researcher_agent, reporting_analyst],\n",
    "        tasks=[research_task, reporting_task],\n",
    "        verbose=True,  # You can set it to True or False\n",
    "        # ↑ indicates the verbosity level for logging during execution.\n",
    "        process=Process.sequential\n",
    "    )"
   ]
  },
  {
   "cell_type": "markdown",
   "metadata": {},
   "source": [
    "## 3.4 Running a Practical Example\n",
    "\n",
    "Now, let's put all of this together by placing the discrete agents and tasks into a crew. First, we define an input topic. Feel free to change the topic to something else."
   ]
  },
  {
   "cell_type": "code",
   "execution_count": 7,
   "metadata": {
    "ExecuteTime": {
     "end_time": "2024-05-17T18:26:14.680431Z",
     "start_time": "2024-05-17T18:26:14.561004Z"
    },
    "cellView": "form",
    "id": "hZJwUoXasrhx"
   },
   "outputs": [],
   "source": [
    "# Notice here that the object we pass maps to the {topic} field we added to the agents and tasks.\n",
    "inputs = {\n",
    "        \"topic\": \"Top 5 Cities in Europe\",\n",
    "}"
   ]
  },
  {
   "cell_type": "markdown",
   "metadata": {},
   "source": [
    "Next, we create a function to run the crew with the given input. We have enabled verbose logging to help you see the agents execute each task."
   ]
  },
  {
   "cell_type": "code",
   "execution_count": 8,
   "metadata": {},
   "outputs": [
    {
     "name": "stdout",
     "output_type": "stream",
     "text": [
      "\u001b[1m\u001b[95m# Agent:\u001b[00m \u001b[1m\u001b[92m\u001b[00m\n",
      "\u001b[95m## Task:\u001b[00m \u001b[92m\n",
      "Conduct thorough research about Top 5 Cities in Europe\n",
      "\n",
      "Make sure you find any interesting and relevant information given the current year is 2025.\n",
      "\u001b[00m\n",
      "\n",
      "\n",
      "\u001b[1m\u001b[95m# Agent:\u001b[00m \u001b[1m\u001b[92m\u001b[00m\n",
      "\u001b[95m## Using tool:\u001b[00m \u001b[92mSearch the internet\u001b[00m\n",
      "\u001b[95m## Tool Input:\u001b[00m \u001b[92m\n",
      "\"{\\\"search_query\\\": \\\"Top 5 Cities in Europe 2025\\\"}\"\u001b[00m\n",
      "\u001b[95m## Tool Output:\u001b[00m \u001b[92m\n",
      "\n",
      "Search results: Title: Best Places to Visit in Europe for 2025 - U.S. News Travel\n",
      "Link: https://travel.usnews.com/rankings/best-europe-vacations/\n",
      "Snippet: Best Places to Visit in Europe for 2025 · Swiss Alps · Rome · Venice · London, England · Paris · Florence · Amsterdam · Barcelona. #8 in Best ...\n",
      "---\n",
      "Title: The Best European Cities to Visit in 2025 - The Friendly Traveler\n",
      "Link: https://thefriendlytraveler.com/top-european-destinations/\n",
      "Snippet: The Best Spots for Nature or Adventure Seeking Travelers · Interlaken, Switzerland · Reykjavik, Iceland · Edinburgh, Scotland.\n",
      "---\n",
      "Title: 10 Best Countries To Visit In 2025, Per European Best Destinations\n",
      "Link: https://www.forbes.com/sites/joanneshurvell/2025/03/04/croatia-chosen-as-best-european-country-to-visit-in-2025/\n",
      "Snippet: 1.Croatia · 2.Spain · 3.Austria · 4.Italy · 5.Greece · 6.Portugal · 7.France · 8.Turkey.\n",
      "---\n",
      "Title: A Tour by Train of 5 Dazzling European Cities - The New York Times\n",
      "Link: https://www.nytimes.com/2025/03/10/travel/europe-by-train.html\n",
      "Snippet: Milan, Zurich, Berlin, Copenhagen and Stockholm: Our writer devised her own urban grand tour to some of the continent's most dazzling cities.\n",
      "---\n",
      "Title: What do you think of these as 'European cities to visit in 2025'?\n",
      "Link: https://www.reddit.com/r/Europetravel/comments/1go0ubd/what_do_you_think_of_these_as_european_cities_to/\n",
      "Snippet: Madrid, Istanbul, Dubrovnik, Bordeaux, Lisbon, Seville, Tbilisi,Tallinn, Vienna, Copenhagen. Have you been to many of them? Did you like them?\n",
      "---\n",
      "\u001b[00m\n",
      "\n",
      "\n",
      "\u001b[1m\u001b[95m# Agent:\u001b[00m \u001b[1m\u001b[92m\u001b[00m\n",
      "\u001b[95m## Using tool:\u001b[00m \u001b[92mSearch the internet\u001b[00m\n",
      "\u001b[95m## Tool Input:\u001b[00m \u001b[92m\n",
      "\"{\\\"search_query\\\": \\\"Top European cities most visited tourists 2025\\\"}\"\u001b[00m\n",
      "\u001b[95m## Tool Output:\u001b[00m \u001b[92m\n",
      "\n",
      "Search results: Title: 10 Best Countries To Visit In 2025, Per European Best Destinations\n",
      "Link: https://www.forbes.com/sites/joanneshurvell/2025/03/04/croatia-chosen-as-best-european-country-to-visit-in-2025/\n",
      "Snippet: Croatia has officially been crowned the Best Country to Visit in Europe in 2025, ahead of Spain (2nd), Austria (3rd), Italy (4th) and Greece ( ...\n",
      "---\n",
      "Title: Best Places to Visit in Europe for 2025 - U.S. News Travel\n",
      "Link: https://travel.usnews.com/rankings/best-europe-vacations/\n",
      "Snippet: Dublin. #23 in Best Places to Visit in Europe for 2025. Ireland's most populous city has long been a vacation destination of choice for beer ...\n",
      "---\n",
      "Title: The Best European Cities to Visit in 2025 - The Friendly Traveler\n",
      "Link: https://thefriendlytraveler.com/top-european-destinations/\n",
      "Snippet: The Best Spots for Nature or Adventure Seeking Travelers · Interlaken, Switzerland · Reykjavik, Iceland · Edinburgh, Scotland.\n",
      "---\n",
      "Title: What do you think of these as 'European cities to visit in 2025'?\n",
      "Link: https://www.reddit.com/r/Europetravel/comments/1go0ubd/what_do_you_think_of_these_as_european_cities_to/\n",
      "Snippet: Top 10. Madrid, Istanbul, Dubrovnik, Bordeaux, Lisbon, Seville, Tbilisi,Tallinn, Vienna, Copenhagen. Have you been to many of them? Did you like them?\n",
      "---\n",
      "Title: Where To Travel in 2025 in Europe: A Month-by-Month Guide\n",
      "Link: https://jaywaytravel.com/blog/where-to-travel-in-2025-in-europe\n",
      "Snippet: This comprehensive list of fantastic places to visit in Europe, a valuable tool for anyone puzzled about where to travel in 2025 in Europe.\n",
      "---\n",
      "\u001b[00m\n",
      "\n",
      "\n",
      "\u001b[1m\u001b[95m# Agent:\u001b[00m \u001b[1m\u001b[92m\u001b[00m\n",
      "\u001b[95m## Final Answer:\u001b[00m \u001b[92m\n",
      "* The Top 5 Cities in Europe that are mentioned in the search results are: \n",
      "  - Paris, mentioned in the article \"Best Places to Visit in Europe for 2025 - U.S. News Travel\"\n",
      "  - London, mentioned in the article \"Best Places to Visit in Europe for 2025 - U.S. News Travel\"\n",
      "  - Venice, mentioned in the article \"Best Places to Visit in Europe for 2025 - U.S. News Travel\"\n",
      "  - Rome, mentioned in the article \"Best Places to Visit in Europe for 2025 - U.S. News Travel\"\n",
      "  - Florence, mentioned in the article \"Best Places to Visit in Europe for 2025 - U.S. News Travel\"\n",
      "\n",
      "Additional notable cities mentioned in the search results are:\n",
      "* Milan, mentioned in the article \"A Tour by Train of 5 Dazzling European Cities - The New York Times\"\n",
      "* Zurich, mentioned in the article \"A Tour by Train of 5 Dazzling European Cities - The New York Times\"\n",
      "* Berlin, mentioned in the article \"A Tour by Train of 5 Dazzling European Cities - The New York Times\"\n",
      "* Copenhagen, mentioned in the article \"A Tour by Train of 5 Dazzling European Cities - The New York Times\"\n",
      "* Stockholm, mentioned in the article \"A Tour by Train of 5 Dazzling European Cities - The New York Times\"\u001b[00m\n",
      "\n",
      "\n",
      "\u001b[1m\u001b[95m# Agent:\u001b[00m \u001b[1m\u001b[92m\u001b[00m\n",
      "\u001b[95m## Task:\u001b[00m \u001b[92m\n",
      "Review the context you got and expand each topic into a full section for a report.\n",
      "Make sure the report is detailed and contains any and all relevant information.\n",
      "\u001b[00m\n",
      "\n",
      "\n",
      "\u001b[1m\u001b[95m# Agent:\u001b[00m \u001b[1m\u001b[92m\u001b[00m\n",
      "\u001b[95m## Final Answer:\u001b[00m \u001b[92m\n",
      "# Top 5 Cities in Europe Reporting Analyst\n",
      "\n",
      "This report provides an analysis of the top 5 cities in Europe based on search results and article mentions. We have identified the top 5 cities as Paris, London, Venice, Rome, and Florence, along with additional notable cities mentioned in the search results.\n",
      "\n",
      "## Introduction\n",
      "\n",
      "The purpose of this report is to provide an overview of the top 5 cities in Europe, along with additional notable cities mentioned in the search results. Our analysis is based on data from search results and article mentions.\n",
      "\n",
      "## Methodology\n",
      "\n",
      "Our methodology involved analyzing search results and article mentions to identify the top 5 cities in Europe. We used multiple sources, including articles from reputable publications such as U.S. News Travel and The New York Times.\n",
      "\n",
      "## Top 5 Cities in Europe\n",
      "\n",
      "### 1. Paris\n",
      "\n",
      "* Article: \"Best Places to Visit in Europe for 2025 - U.S. News Travel\"\n",
      "* Description: Paris is a popular tourist destination known for its iconic landmarks such as the Eiffel Tower and the Louvre Museum.\n",
      "* Highlights:\n",
      "\t+ Rich history and culture\n",
      "\t+ World-class museums and art collections\n",
      "\t+ Romantic atmosphere and stunning architecture\n",
      "\n",
      "### 2. London\n",
      "\n",
      "* Article: \"Best Places to Visit in Europe for 2025 - U.S. News Travel\"\n",
      "* Description: London is a global financial hub and a popular tourist destination, known for its iconic landmarks such as Buckingham Palace and the Tower of London.\n",
      "* Highlights:\n",
      "\t+ Rich history and cultural heritage\n",
      "\t+ World-class shopping and dining options\n",
      "\t+ Diverse and vibrant neighborhoods\n",
      "\n",
      "### 3. Venice\n",
      "\n",
      "* Article: \"Best Places to Visit in Europe for 2025 - U.S. News Travel\"\n",
      "* Description: Venice is a unique and romantic city built on water, known for its canals, stunning architecture and art collections.\n",
      "* Highlights:\n",
      "\t+ Unique architecture and cultural heritage\n",
      "\t+ World-class art collections and museums\n",
      "\t+ Romantic atmosphere and scenic canals\n",
      "\n",
      "### 4. Rome\n",
      "\n",
      "* Article: \"Best Places to Visit in Europe for 2025 - U.S. News Travel\"\n",
      "* Description: Rome is a historic city known for its ancient landmarks such as the Colosseum and the Roman Forum.\n",
      "* Highlights:\n",
      "\t+ Rich history and cultural heritage\n",
      "\t+ World-class museums and art collections\n",
      "\t+ Delicious Italian cuisine and drinks\n",
      "\n",
      "### 5. Florence\n",
      "\n",
      "* Article: \"Best Places to Visit in Europe for 2025 - U.S. News Travel\"\n",
      "* Description: Florence is a historic city known for its stunning architecture and art collections, including Michelangelo's David.\n",
      "* Highlights:\n",
      "\t+ Rich history and cultural heritage\n",
      "\t+ World-class museums and art collections\n",
      "\t+ Scenic views and stunning architecture\n",
      "\n",
      "## Additional Notable Cities\n",
      "\n",
      "### 1. Milan\n",
      "\n",
      "* Article: \"A Tour by Train of 5 Dazzling European Cities - The New York Times\"\n",
      "* Description: Milan is a fashion and design hub, known for its iconic landmarks such as the Duomo and the Galleria Vittorio Emanuele II.\n",
      "* Highlights:\n",
      "\t+ World-class shopping and fashion\n",
      "\t+ Rich history and cultural heritage\n",
      "\t+ Scenic architecture and vibrant nightlife\n",
      "\n",
      "### 2. Zurich\n",
      "\n",
      "* Article: \"A Tour by Train of 5 Dazzling European Cities - The New York Times\"\n",
      "* Description: Zurich is a financial hub, known for its stunning architecture, picturesque lake and high-quality chocolate.\n",
      "* Highlights:\n",
      "\t+ World-class financial services\n",
      "\t+ Delicious chocolate and quality Swiss cuisine\n",
      "\t+ Scenic views and stunning architecture\n",
      "\n",
      "### 3. Berlin\n",
      "\n",
      "* Article: \"A Tour by Train of 5 Dazzling European Cities - The New York Times\"\n",
      "* Description: Berlin is a vibrant city, known for its rich history, cultural heritage and nightlife.\n",
      "* Highlights:\n",
      "\t+ World-class museums and art collections\n",
      "\t+ Diverse and vibrant neighborhoods\n",
      "\t+ Rich history and cultural heritage\n",
      "\n",
      "### 4. Copenhagen\n",
      "\n",
      "* Article: \"A Tour by Train of 5 Dazzling European Cities - The New York Times\"\n",
      "* Description: Copenhagen is a sustainable and innovative city, known for its stunning architecture and quality cuisine.\n",
      "* Highlights:\n",
      "\t+ World-class cuisine and sustainable lifestyle\n",
      "\t+ Stunning architecture and scenic views\n",
      "\t+ Rich cultural heritage and vibrant neighborhoods\n",
      "\n",
      "### 5. Stockholm\n",
      "\n",
      "* Article: \"A Tour by Train of 5 Dazzling European Cities - The New York Times\"\n",
      "* Description: Stockholm is a historic city, known for its stunning architecture, quality cuisine and rich cultural heritage.\n",
      "* Highlights:\n",
      "\t+ World-class museums and art collections\n",
      "\t+ Rich history and cultural heritage\n",
      "\t+ Scenic views and stunning architecture\n",
      "\n",
      "## Conclusion\n",
      "\n",
      "This report provides an overview of the top 5 cities in Europe, along with additional notable cities mentioned in the search results. Our analysis highlights the unique characteristics and attractions of each city, providing valuable insights for travelers and businesses alike.\u001b[00m\n",
      "\n",
      "\n"
     ]
    }
   ],
   "source": [
    "def run_crew():\n",
    "    result = crew.kickoff(inputs=inputs)\n",
    "run_crew()"
   ]
  },
  {
   "cell_type": "markdown",
   "metadata": {},
   "source": [
    "Congrats! You just created your first agent today! Next - we will show how agents can be stitched together to create complex applications."
   ]
  }
 ],
 "metadata": {
  "colab": {
   "include_colab_link": true,
   "private_outputs": true,
   "provenance": []
  },
  "kernelspec": {
   "display_name": "Python 3 (ipykernel)",
   "language": "python",
   "name": "python3"
  },
  "language_info": {
   "codemirror_mode": {
    "name": "ipython",
    "version": 3
   },
   "file_extension": ".py",
   "mimetype": "text/x-python",
   "name": "python",
   "nbconvert_exporter": "python",
   "pygments_lexer": "ipython3",
   "version": "3.10.14"
  }
 },
 "nbformat": 4,
 "nbformat_minor": 4
}
